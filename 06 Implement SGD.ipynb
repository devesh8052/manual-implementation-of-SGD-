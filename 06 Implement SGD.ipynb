{
 "cells": [
  {
   "cell_type": "code",
   "execution_count": 1,
   "metadata": {
    "colab": {},
    "colab_type": "code",
    "id": "REYPoTJ1Af7u"
   },
   "outputs": [],
   "source": [
    "import warnings\n",
    "warnings.filterwarnings(\"ignore\")\n",
    "from sklearn.datasets import load_boston\n",
    "from random import seed\n",
    "from random import randrange\n",
    "from csv import reader\n",
    "from math import sqrt\n",
    "from sklearn import preprocessing\n",
    "import pandas as pd\n",
    "import numpy as np\n",
    "import matplotlib.pyplot as plt\n",
    "from prettytable import PrettyTable\n",
    "from sklearn.linear_model import SGDRegressor\n",
    "from sklearn import preprocessing\n",
    "from sklearn.metrics import mean_squared_error\n",
    "from sklearn.model_selection import train_test_split"
   ]
  },
  {
   "cell_type": "code",
   "execution_count": 77,
   "metadata": {
    "colab": {},
    "colab_type": "code",
    "id": "NTQ2iH-kAwbo"
   },
   "outputs": [],
   "source": [
    "X = load_boston().data\n",
    "Y = load_boston().target"
   ]
  },
  {
   "cell_type": "code",
   "execution_count": 78,
   "metadata": {
    "colab": {},
    "colab_type": "code",
    "id": "FgUW39s6Be0U"
   },
   "outputs": [],
   "source": [
    "scaler = preprocessing.StandardScaler().fit(X)\n",
    "X = scaler.transform(X)"
   ]
  },
  {
   "cell_type": "code",
   "execution_count": 79,
   "metadata": {
    "colab": {
     "base_uri": "https://localhost:8080/",
     "height": 34
    },
    "colab_type": "code",
    "executionInfo": {
     "elapsed": 879,
     "status": "ok",
     "timestamp": 1545718892607,
     "user": {
      "displayName": "Applied AI Course",
      "photoUrl": "https://lh5.googleusercontent.com/-9_3A9F-kDXs/AAAAAAAAAAI/AAAAAAAAACw/IprjYvUuoXQ/s64/photo.jpg",
      "userId": "00484516897554883881"
     },
     "user_tz": -330
    },
    "id": "HNu1sXtEBBS2",
    "outputId": "a0c5d3d0-345c-4a34-8ccf-0d9f3d7d23fd"
   },
   "outputs": [
    {
     "name": "stdout",
     "output_type": "stream",
     "text": [
      "22.002611096122383\n"
     ]
    }
   ],
   "source": [
    "clf = SGDRegressor()\n",
    "clf.fit(X, Y)\n",
    "print(mean_squared_error(Y, clf.predict(X)))\n"
   ]
  },
  {
   "cell_type": "code",
   "execution_count": 80,
   "metadata": {},
   "outputs": [
    {
     "data": {
      "text/plain": [
       "array([24. , 21.6, 34.7, 33.4, 36.2, 28.7, 22.9, 27.1, 16.5, 18.9])"
      ]
     },
     "execution_count": 80,
     "metadata": {},
     "output_type": "execute_result"
    }
   ],
   "source": [
    "Y[0:10]"
   ]
  },
  {
   "cell_type": "code",
   "execution_count": 81,
   "metadata": {},
   "outputs": [
    {
     "data": {
      "text/plain": [
       "array([30.11541469, 24.80979717, 30.33241595, 28.38883431, 27.73980678,\n",
       "       25.04009414, 22.83449853, 19.40492534, 11.48135014, 18.7864729 ])"
      ]
     },
     "execution_count": 81,
     "metadata": {},
     "output_type": "execute_result"
    }
   ],
   "source": [
    "clf.predict(X)[0:10]"
   ]
  },
  {
   "cell_type": "markdown",
   "metadata": {},
   "source": [
    "# implementation of SGD manually:"
   ]
  },
  {
   "cell_type": "code",
   "execution_count": null,
   "metadata": {},
   "outputs": [],
   "source": []
  },
  {
   "cell_type": "code",
   "execution_count": 82,
   "metadata": {},
   "outputs": [
    {
     "data": {
      "text/plain": [
       "(506, 13)"
      ]
     },
     "execution_count": 82,
     "metadata": {},
     "output_type": "execute_result"
    }
   ],
   "source": [
    "## loading the data \n",
    "data= pd.DataFrame(load_boston().data)\n",
    "data.shape\n"
   ]
  },
  {
   "cell_type": "code",
   "execution_count": null,
   "metadata": {},
   "outputs": [],
   "source": []
  },
  {
   "cell_type": "code",
   "execution_count": 83,
   "metadata": {},
   "outputs": [
    {
     "data": {
      "text/html": [
       "<div>\n",
       "<style scoped>\n",
       "    .dataframe tbody tr th:only-of-type {\n",
       "        vertical-align: middle;\n",
       "    }\n",
       "\n",
       "    .dataframe tbody tr th {\n",
       "        vertical-align: top;\n",
       "    }\n",
       "\n",
       "    .dataframe thead th {\n",
       "        text-align: right;\n",
       "    }\n",
       "</style>\n",
       "<table border=\"1\" class=\"dataframe\">\n",
       "  <thead>\n",
       "    <tr style=\"text-align: right;\">\n",
       "      <th></th>\n",
       "      <th>0</th>\n",
       "      <th>1</th>\n",
       "      <th>2</th>\n",
       "      <th>3</th>\n",
       "      <th>4</th>\n",
       "      <th>5</th>\n",
       "      <th>6</th>\n",
       "      <th>7</th>\n",
       "      <th>8</th>\n",
       "      <th>9</th>\n",
       "      <th>10</th>\n",
       "      <th>11</th>\n",
       "      <th>12</th>\n",
       "    </tr>\n",
       "  </thead>\n",
       "  <tbody>\n",
       "    <tr>\n",
       "      <th>0</th>\n",
       "      <td>0.00632</td>\n",
       "      <td>18.0</td>\n",
       "      <td>2.31</td>\n",
       "      <td>0.0</td>\n",
       "      <td>0.538</td>\n",
       "      <td>6.575</td>\n",
       "      <td>65.2</td>\n",
       "      <td>4.0900</td>\n",
       "      <td>1.0</td>\n",
       "      <td>296.0</td>\n",
       "      <td>15.3</td>\n",
       "      <td>396.90</td>\n",
       "      <td>4.98</td>\n",
       "    </tr>\n",
       "    <tr>\n",
       "      <th>1</th>\n",
       "      <td>0.02731</td>\n",
       "      <td>0.0</td>\n",
       "      <td>7.07</td>\n",
       "      <td>0.0</td>\n",
       "      <td>0.469</td>\n",
       "      <td>6.421</td>\n",
       "      <td>78.9</td>\n",
       "      <td>4.9671</td>\n",
       "      <td>2.0</td>\n",
       "      <td>242.0</td>\n",
       "      <td>17.8</td>\n",
       "      <td>396.90</td>\n",
       "      <td>9.14</td>\n",
       "    </tr>\n",
       "    <tr>\n",
       "      <th>2</th>\n",
       "      <td>0.02729</td>\n",
       "      <td>0.0</td>\n",
       "      <td>7.07</td>\n",
       "      <td>0.0</td>\n",
       "      <td>0.469</td>\n",
       "      <td>7.185</td>\n",
       "      <td>61.1</td>\n",
       "      <td>4.9671</td>\n",
       "      <td>2.0</td>\n",
       "      <td>242.0</td>\n",
       "      <td>17.8</td>\n",
       "      <td>392.83</td>\n",
       "      <td>4.03</td>\n",
       "    </tr>\n",
       "    <tr>\n",
       "      <th>3</th>\n",
       "      <td>0.03237</td>\n",
       "      <td>0.0</td>\n",
       "      <td>2.18</td>\n",
       "      <td>0.0</td>\n",
       "      <td>0.458</td>\n",
       "      <td>6.998</td>\n",
       "      <td>45.8</td>\n",
       "      <td>6.0622</td>\n",
       "      <td>3.0</td>\n",
       "      <td>222.0</td>\n",
       "      <td>18.7</td>\n",
       "      <td>394.63</td>\n",
       "      <td>2.94</td>\n",
       "    </tr>\n",
       "    <tr>\n",
       "      <th>4</th>\n",
       "      <td>0.06905</td>\n",
       "      <td>0.0</td>\n",
       "      <td>2.18</td>\n",
       "      <td>0.0</td>\n",
       "      <td>0.458</td>\n",
       "      <td>7.147</td>\n",
       "      <td>54.2</td>\n",
       "      <td>6.0622</td>\n",
       "      <td>3.0</td>\n",
       "      <td>222.0</td>\n",
       "      <td>18.7</td>\n",
       "      <td>396.90</td>\n",
       "      <td>5.33</td>\n",
       "    </tr>\n",
       "  </tbody>\n",
       "</table>\n",
       "</div>"
      ],
      "text/plain": [
       "        0     1     2    3      4      5     6       7    8      9     10  \\\n",
       "0  0.00632  18.0  2.31  0.0  0.538  6.575  65.2  4.0900  1.0  296.0  15.3   \n",
       "1  0.02731   0.0  7.07  0.0  0.469  6.421  78.9  4.9671  2.0  242.0  17.8   \n",
       "2  0.02729   0.0  7.07  0.0  0.469  7.185  61.1  4.9671  2.0  242.0  17.8   \n",
       "3  0.03237   0.0  2.18  0.0  0.458  6.998  45.8  6.0622  3.0  222.0  18.7   \n",
       "4  0.06905   0.0  2.18  0.0  0.458  7.147  54.2  6.0622  3.0  222.0  18.7   \n",
       "\n",
       "       11    12  \n",
       "0  396.90  4.98  \n",
       "1  396.90  9.14  \n",
       "2  392.83  4.03  \n",
       "3  394.63  2.94  \n",
       "4  396.90  5.33  "
      ]
     },
     "execution_count": 83,
     "metadata": {},
     "output_type": "execute_result"
    }
   ],
   "source": [
    "##initialize the X  and Y\n",
    "X=data\n",
    "Y=load_boston().target\n",
    "X.head()"
   ]
  },
  {
   "cell_type": "code",
   "execution_count": 84,
   "metadata": {},
   "outputs": [
    {
     "name": "stdout",
     "output_type": "stream",
     "text": [
      "x_train data  shape:   (339, 13)\n",
      "y_train data shape:   (339,)\n",
      "x_test data shape:   (167, 13)\n",
      "y_test data shape:    (167,)\n"
     ]
    }
   ],
   "source": [
    "## split the data in train and test data set\n",
    "x_train, x_test, y_train, y_test = train_test_split(X, Y, test_size = 0.33, random_state = 5)\n",
    "### print shape of the train ans test dataset\n",
    "print('x_train data  shape:  ',x_train.shape)\n",
    "print('y_train data shape:  ',y_train.shape)\n",
    "\n",
    "print('x_test data shape:  ',x_test.shape)\n",
    "print('y_test data shape:   ',y_test.shape)"
   ]
  },
  {
   "cell_type": "code",
   "execution_count": 85,
   "metadata": {},
   "outputs": [],
   "source": [
    "#preprocessing\n",
    "## apply StandardScaler to scale the x_train and x_test data\n",
    "scaler = preprocessing.StandardScaler().fit(x_train)\n",
    "x_train = scaler.transform(x_train)\n",
    "x_test = scaler.transform(x_test)\n",
    "## make datframe of standardized train and test data\n",
    "x_train = pd.DataFrame(x_train)\n",
    "x_test = pd.DataFrame(x_test)\n",
    "\n",
    "# add last column  as target column in dataframe \n",
    "x_train['cost'] = np.array(y_train)\n",
    "x_test['cost'] = np.array(y_test)"
   ]
  },
  {
   "cell_type": "code",
   "execution_count": 86,
   "metadata": {},
   "outputs": [
    {
     "data": {
      "text/html": [
       "<div>\n",
       "<style scoped>\n",
       "    .dataframe tbody tr th:only-of-type {\n",
       "        vertical-align: middle;\n",
       "    }\n",
       "\n",
       "    .dataframe tbody tr th {\n",
       "        vertical-align: top;\n",
       "    }\n",
       "\n",
       "    .dataframe thead th {\n",
       "        text-align: right;\n",
       "    }\n",
       "</style>\n",
       "<table border=\"1\" class=\"dataframe\">\n",
       "  <thead>\n",
       "    <tr style=\"text-align: right;\">\n",
       "      <th></th>\n",
       "      <th>0</th>\n",
       "      <th>1</th>\n",
       "      <th>2</th>\n",
       "      <th>3</th>\n",
       "      <th>4</th>\n",
       "      <th>5</th>\n",
       "      <th>6</th>\n",
       "      <th>7</th>\n",
       "      <th>8</th>\n",
       "      <th>9</th>\n",
       "      <th>10</th>\n",
       "      <th>11</th>\n",
       "      <th>12</th>\n",
       "      <th>cost</th>\n",
       "    </tr>\n",
       "  </thead>\n",
       "  <tbody>\n",
       "    <tr>\n",
       "      <th>0</th>\n",
       "      <td>0.911839</td>\n",
       "      <td>-0.502419</td>\n",
       "      <td>1.072305</td>\n",
       "      <td>-0.256978</td>\n",
       "      <td>1.633548</td>\n",
       "      <td>0.486034</td>\n",
       "      <td>0.962774</td>\n",
       "      <td>-0.823477</td>\n",
       "      <td>1.655334</td>\n",
       "      <td>1.552100</td>\n",
       "      <td>0.808078</td>\n",
       "      <td>-2.842959</td>\n",
       "      <td>1.523203</td>\n",
       "      <td>13.4</td>\n",
       "    </tr>\n",
       "    <tr>\n",
       "      <th>1</th>\n",
       "      <td>-0.411727</td>\n",
       "      <td>-0.502419</td>\n",
       "      <td>-1.129795</td>\n",
       "      <td>-0.256978</td>\n",
       "      <td>-0.552451</td>\n",
       "      <td>1.028078</td>\n",
       "      <td>0.668619</td>\n",
       "      <td>-0.183274</td>\n",
       "      <td>-0.871371</td>\n",
       "      <td>-0.802704</td>\n",
       "      <td>-0.304174</td>\n",
       "      <td>0.427436</td>\n",
       "      <td>-0.995240</td>\n",
       "      <td>23.6</td>\n",
       "    </tr>\n",
       "    <tr>\n",
       "      <th>2</th>\n",
       "      <td>0.124583</td>\n",
       "      <td>-0.502419</td>\n",
       "      <td>1.072305</td>\n",
       "      <td>-0.256978</td>\n",
       "      <td>1.441946</td>\n",
       "      <td>-3.913414</td>\n",
       "      <td>0.725324</td>\n",
       "      <td>-1.075955</td>\n",
       "      <td>1.655334</td>\n",
       "      <td>1.552100</td>\n",
       "      <td>0.808078</td>\n",
       "      <td>-0.053353</td>\n",
       "      <td>-0.765646</td>\n",
       "      <td>27.5</td>\n",
       "    </tr>\n",
       "    <tr>\n",
       "      <th>3</th>\n",
       "      <td>-0.406208</td>\n",
       "      <td>0.839388</td>\n",
       "      <td>-0.901940</td>\n",
       "      <td>-0.256978</td>\n",
       "      <td>-1.083710</td>\n",
       "      <td>0.097426</td>\n",
       "      <td>-0.515087</td>\n",
       "      <td>1.600509</td>\n",
       "      <td>-0.411970</td>\n",
       "      <td>-0.624310</td>\n",
       "      <td>-0.860301</td>\n",
       "      <td>0.152292</td>\n",
       "      <td>-0.184576</td>\n",
       "      <td>22.2</td>\n",
       "    </tr>\n",
       "    <tr>\n",
       "      <th>4</th>\n",
       "      <td>0.021742</td>\n",
       "      <td>-0.502419</td>\n",
       "      <td>1.072305</td>\n",
       "      <td>-0.256978</td>\n",
       "      <td>1.398401</td>\n",
       "      <td>0.123238</td>\n",
       "      <td>0.743044</td>\n",
       "      <td>-0.605107</td>\n",
       "      <td>1.655334</td>\n",
       "      <td>1.552100</td>\n",
       "      <td>0.808078</td>\n",
       "      <td>0.365116</td>\n",
       "      <td>0.301538</td>\n",
       "      <td>17.7</td>\n",
       "    </tr>\n",
       "  </tbody>\n",
       "</table>\n",
       "</div>"
      ],
      "text/plain": [
       "          0         1         2         3         4         5         6  \\\n",
       "0  0.911839 -0.502419  1.072305 -0.256978  1.633548  0.486034  0.962774   \n",
       "1 -0.411727 -0.502419 -1.129795 -0.256978 -0.552451  1.028078  0.668619   \n",
       "2  0.124583 -0.502419  1.072305 -0.256978  1.441946 -3.913414  0.725324   \n",
       "3 -0.406208  0.839388 -0.901940 -0.256978 -1.083710  0.097426 -0.515087   \n",
       "4  0.021742 -0.502419  1.072305 -0.256978  1.398401  0.123238  0.743044   \n",
       "\n",
       "          7         8         9        10        11        12  cost  \n",
       "0 -0.823477  1.655334  1.552100  0.808078 -2.842959  1.523203  13.4  \n",
       "1 -0.183274 -0.871371 -0.802704 -0.304174  0.427436 -0.995240  23.6  \n",
       "2 -1.075955  1.655334  1.552100  0.808078 -0.053353 -0.765646  27.5  \n",
       "3  1.600509 -0.411970 -0.624310 -0.860301  0.152292 -0.184576  22.2  \n",
       "4 -0.605107  1.655334  1.552100  0.808078  0.365116  0.301538  17.7  "
      ]
     },
     "execution_count": 86,
     "metadata": {},
     "output_type": "execute_result"
    }
   ],
   "source": [
    "x_train.head()"
   ]
  },
  {
   "cell_type": "code",
   "execution_count": null,
   "metadata": {},
   "outputs": [],
   "source": []
  },
  {
   "cell_type": "code",
   "execution_count": null,
   "metadata": {},
   "outputs": [],
   "source": []
  },
  {
   "cell_type": "code",
   "execution_count": 94,
   "metadata": {},
   "outputs": [],
   "source": [
    "### initialization of the parameters\n",
    "w = np.zeros(13) # initial weight \n",
    "n = 10000 # no of iterations\n",
    "r = 0.01 # learning_rate\n",
    "k= 40 # batch_size\n",
    "b = 0 #consider zero_intercept intitially"
   ]
  },
  {
   "cell_type": "code",
   "execution_count": null,
   "metadata": {},
   "outputs": [],
   "source": []
  },
  {
   "cell_type": "code",
   "execution_count": 95,
   "metadata": {},
   "outputs": [],
   "source": [
    "for i in range(1,n):    \n",
    "    batch = x_train.sample(k)    ## choose random k samples from x_train\n",
    "    x_tmp = np.array(batch.drop('cost',axis=1))\n",
    "    y_tmp = np.array(batch['cost'])\n",
    "    w_temp = np.zeros(13)               ## intialize w_temp with 0\n",
    "    b_temp = 0\n",
    "    for j in range(1,k): \n",
    "        val1 = -2 * x_tmp[j] \n",
    "        val2 = y_tmp[j]\n",
    "        #print(w.shape,x[z].shape)\n",
    "        val3 = np.dot(w,x_tmp[j])\n",
    "        val5 = (val2 - val3)\n",
    "        val4 = (val1 * val5)\n",
    "        w_temp= w_temp + val4\n",
    "        b_temp = (-2)*( val2 - ( val3 + b ) )   \n",
    "        \n",
    "    w-=(r*w_temp/k)\n",
    "    b-=(r*b_temp/k)"
   ]
  },
  {
   "cell_type": "code",
   "execution_count": 96,
   "metadata": {},
   "outputs": [
    {
     "name": "stdout",
     "output_type": "stream",
     "text": [
      "W of the implemented model is:   [-1.40249144  0.82610736 -0.75205572 -0.09542387 -1.76483671  2.76173337\n",
      "  0.17792795 -2.47815113  3.29377206 -2.52745313 -1.96668914  1.13982008\n",
      " -3.3257751 ]\n",
      "b intercept  of the implemented model  is:  22.38434562063488\n"
     ]
    }
   ],
   "source": [
    "## print w and b\n",
    "print('W of the implemented model is:  ',w)\n",
    "print('b intercept  of the implemented model  is: ',b)"
   ]
  },
  {
   "cell_type": "code",
   "execution_count": 97,
   "metadata": {},
   "outputs": [
    {
     "data": {
      "image/png": "[encoded data removed]",
      "text/plain": [
       "<Figure size 432x288 with 1 Axes>"
      ]
     },
     "metadata": {
      "needs_background": "light"
     },
     "output_type": "display_data"
    },
    {
     "name": "stdout",
     "output_type": "stream",
     "text": [
      "Mean Squared Error:  19.7516997059925\n"
     ]
    }
   ],
   "source": [
    "###### Plot prediction on  on Train-Data ######\n",
    "y__actual = x_train['cost']\n",
    "y__pred = x_train.drop('cost',axis=1).dot(w.T) + b\n",
    "\n",
    "\n",
    "plt.scatter(y_actual,y_pred)\n",
    "plt.xlabel('Actual Price')\n",
    "plt.ylabel('Predicted Price')\n",
    "plt.title('Actual vs Predicted price with manual SGD on train data')\n",
    "plt.show()\n",
    "\n",
    "train_loss_manual = mean_squared_error(y_actual, y_pred)\n",
    "\n",
    "print(\"Mean Squared Error: \",train_loss_manual)"
   ]
  },
  {
   "cell_type": "code",
   "execution_count": null,
   "metadata": {},
   "outputs": [],
   "source": []
  },
  {
   "cell_type": "code",
   "execution_count": 98,
   "metadata": {},
   "outputs": [
    {
     "data": {
      "image/png": "[encoded data removed]",
      "text/plain": [
       "<Figure size 432x288 with 1 Axes>"
      ]
     },
     "metadata": {
      "needs_background": "light"
     },
     "output_type": "display_data"
    },
    {
     "name": "stdout",
     "output_type": "stream",
     "text": [
      "Mean Squared Error:  31.520946914475672\n"
     ]
    }
   ],
   "source": [
    "###### Plot on Test-Data ######\n",
    "y_actual = x_test['cost']\n",
    "y_pred =x_test.drop('cost',axis=1).dot(w.T) + b\n",
    "\n",
    "\n",
    "plt.scatter(y_actual,y_pred)\n",
    "plt.xlabel('Actual Price')\n",
    "plt.ylabel('Predicted Price')\n",
    "plt.title('Actual vs Predicted price with manual SGD on test data')\n",
    "\n",
    "plt.show()\n",
    "\n",
    "test_loss_manual = mean_squared_error(y_actual, y_pred)\n",
    "print(\"Mean Squared Error: \",test_loss_manual)"
   ]
  },
  {
   "cell_type": "code",
   "execution_count": null,
   "metadata": {},
   "outputs": [],
   "source": []
  },
  {
   "cell_type": "code",
   "execution_count": 100,
   "metadata": {},
   "outputs": [
    {
     "data": {
      "text/plain": [
       "SGDRegressor(alpha=0.0001, average=False, early_stopping=False, epsilon=0.1,\n",
       "             eta0=0.01, fit_intercept=True, l1_ratio=0.15,\n",
       "             learning_rate='constant', loss='squared_loss', max_iter=1000,\n",
       "             n_iter_no_change=10000, penalty='l2', power_t=0.25,\n",
       "             random_state=None, shuffle=True, tol=0.001,\n",
       "             validation_fraction=0.1, verbose=0, warm_start=False)"
      ]
     },
     "execution_count": 100,
     "metadata": {},
     "output_type": "execute_result"
    }
   ],
   "source": [
    "Y_train = np.array(y_train)\n",
    "Y_test = np.array(y_test)\n",
    "X_train = x_train.drop('cost',axis=1)\n",
    "X_test= x_test.drop('cost',axis=1)\n",
    "\n",
    "sgd = SGDRegressor(learning_rate='constant', eta0=0.01, n_iter_no_change=10000)\n",
    "sgd.fit(X_train, Y_train)"
   ]
  },
  {
   "cell_type": "code",
   "execution_count": null,
   "metadata": {},
   "outputs": [],
   "source": []
  },
  {
   "cell_type": "code",
   "execution_count": 101,
   "metadata": {},
   "outputs": [
    {
     "data": {
      "image/png": "[encoded data removed]",
      "text/plain": [
       "<Figure size 432x288 with 1 Axes>"
      ]
     },
     "metadata": {
      "needs_background": "light"
     },
     "output_type": "display_data"
    },
    {
     "name": "stdout",
     "output_type": "stream",
     "text": [
      "Mean Squared Error:  20.981205122194478\n"
     ]
    }
   ],
   "source": [
    "y_actual = Y_train\n",
    "y_pred = sgd.predict(X_train)\n",
    "\n",
    "\n",
    "plt.scatter(y_actual,y_pred)\n",
    "plt.xlabel('Actual Prices')\n",
    "plt.ylabel('Predicted Prices')\n",
    "plt.title('Actual vs Predicted prices with sklearn regressor on TRAIN Data')\n",
    "plt.show()\n",
    "\n",
    "train_loss_sklearn = mean_squared_error(y_actual, y_pred)\n",
    "\n",
    "print(\"Mean Squared Error: \",train_loss_sklearn)"
   ]
  },
  {
   "cell_type": "code",
   "execution_count": null,
   "metadata": {},
   "outputs": [],
   "source": []
  },
  {
   "cell_type": "code",
   "execution_count": 102,
   "metadata": {},
   "outputs": [
    {
     "data": {
      "image/png": "[encoded data removed]",
      "text/plain": [
       "<Figure size 432x288 with 1 Axes>"
      ]
     },
     "metadata": {
      "needs_background": "light"
     },
     "output_type": "display_data"
    },
    {
     "name": "stdout",
     "output_type": "stream",
     "text": [
      "Mean Squared Error:  25.604723876550317\n"
     ]
    }
   ],
   "source": [
    "y_actual = Y_test\n",
    "y_pred = clf.predict(X_test)\n",
    "\n",
    "\n",
    "plt.scatter(y_actual,y_pred)\n",
    "plt.xlabel('Actual Prices')\n",
    "plt.ylabel('Predicted Prices')\n",
    "plt.title('Actual vs Predicted prices with sklearn regressor on TEST Data')\n",
    "plt.show()\n",
    "\n",
    "test_loss_sklearn = mean_squared_error(y_actual, y_pred)\n",
    "\n",
    "print(\"Mean Squared Error: \",test_loss_sklearn)"
   ]
  },
  {
   "cell_type": "code",
   "execution_count": null,
   "metadata": {},
   "outputs": [],
   "source": []
  },
  {
   "cell_type": "code",
   "execution_count": 103,
   "metadata": {},
   "outputs": [
    {
     "name": "stdout",
     "output_type": "stream",
     "text": [
      "sklearn Intercept:  \n",
      "\n",
      " 22.531274217756902\n"
     ]
    }
   ],
   "source": [
    "sk_intercept = clf.intercept_[0]\n",
    "print(\"sklearn Intercept:  \\n\\n\",sk_intercept)"
   ]
  },
  {
   "cell_type": "code",
   "execution_count": 104,
   "metadata": {},
   "outputs": [
    {
     "name": "stdout",
     "output_type": "stream",
     "text": [
      "sklearn weight:  \n",
      "\n",
      " [-0.84814632  0.98566697 -0.05538153  0.70848266 -1.93283664  2.68144183\n",
      " -0.00689792 -3.08696866  2.10369167 -1.39201532 -2.00587491  0.83195298\n",
      " -3.68118666]\n"
     ]
    }
   ],
   "source": [
    "sk_weight = clf.coef_\n",
    "print(\"sklearn weight:  \\n\\n\", sk_weight)"
   ]
  },
  {
   "cell_type": "code",
   "execution_count": null,
   "metadata": {},
   "outputs": [],
   "source": []
  },
  {
   "cell_type": "code",
   "execution_count": 106,
   "metadata": {},
   "outputs": [
    {
     "name": "stdout",
     "output_type": "stream",
     "text": [
      "+---------------------+--------------------------------------+--------------------------+\n",
      "|      parameter      |  manually implemented SGD regressor  |  sklearn's SGD regressor |\n",
      "+---------------------+--------------------------------------+--------------------------+\n",
      "| training  MSE error |           19.7516997059925           |    20.981205122194478    |\n",
      "|    test MSE error   |          31.520946914475672          |    25.604723876550317    |\n",
      "|     b intercept     |          22.38434562063488           |       [22.7555584]       |\n",
      "+---------------------+--------------------------------------+--------------------------+\n"
     ]
    }
   ],
   "source": [
    "from prettytable import PrettyTable\n",
    "table= PrettyTable()\n",
    "\n",
    "table.field_names = [\"parameter\", \" manually implemented SGD regressor \", \" sklearn's SGD regressor\"]\n",
    "\n",
    "table.add_row(['training  MSE error',train_loss_manual,train_loss_sklearn])\n",
    "table.add_row(['test MSE error',test_loss_manual,test_loss_sklearn])\n",
    "table.add_row(['b intercept',b,sgd.intercept_])\n",
    "print(table)"
   ]
  },
  {
   "cell_type": "code",
   "execution_count": null,
   "metadata": {},
   "outputs": [],
   "source": []
  },
  {
   "cell_type": "code",
   "execution_count": null,
   "metadata": {},
   "outputs": [],
   "source": []
  },
  {
   "cell_type": "code",
   "execution_count": null,
   "metadata": {},
   "outputs": [],
   "source": []
  },
  {
   "cell_type": "code",
   "execution_count": null,
   "metadata": {},
   "outputs": [],
   "source": []
  }
 ],
 "metadata": {
  "colab": {
   "name": "Untitled3.ipynb",
   "provenance": [],
   "version": "0.3.2"
  },
  "kernelspec": {
   "display_name": "Python 3",
   "language": "python",
   "name": "python3"
  },
  "language_info": {
   "codemirror_mode": {
    "name": "ipython",
    "version": 3
   },
   "file_extension": ".py",
   "mimetype": "text/x-python",
   "name": "python",
   "nbconvert_exporter": "python",
   "pygments_lexer": "ipython3",
   "version": "3.6.8"
  }
 },
 "nbformat": 4,
 "nbformat_minor": 1
}
